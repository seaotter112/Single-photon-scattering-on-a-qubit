{
 "cells": [
  {
   "cell_type": "code",
   "execution_count": 2,
   "metadata": {},
   "outputs": [],
   "source": [
    "import numpy as np\n",
    "import matplotlib.pyplot as plt\n",
    "import math\n",
    "from sympy import symbols, integrate, oo, cos\n",
    "from scipy.integrate import quad\n",
    "from scipy.special import sici, exp1\n",
    "import scipy.special as sc"
   ]
  },
  {
   "cell_type": "code",
   "execution_count": 3,
   "metadata": {},
   "outputs": [],
   "source": [
    "# 單位 wavelength & velocity_g & x-vt\n",
    "Omega = 2*math.pi*5*(10**9) # GHz\n",
    "Gamma = 2*math.pi*0.01*(10**9) # GHz\n",
    "wavelength = 0.06 # 6cm\n",
    "velocity_g = 3*10**8 # m/s\n",
    "t = 10**(-9) #1ns 自訂\n",
    "x = -0.001 #1mm\n",
    "o_width = 100\n",
    "omega_sa = 0.995*Omega\n",
    "omega_sb = 1.005*Omega\n",
    "omega_s = np.linspace(omega_sa, omega_sb, o_width)"
   ]
  },
  {
   "cell_type": "code",
   "execution_count": 41,
   "metadata": {},
   "outputs": [],
   "source": [
    "# 初始化一个用于存储结果的一维数组\n",
    "Reflection_o_x_t = np.array([0+0j]*o_width)\n",
    "Reflection_omega_s = np.array([0+0j]*o_width)\n",
    "CI = np.array([0+0j]*o_width)\n",
    "SI = np.array([0+0j]*o_width)\n",
    "z = np.array([0+0j]*o_width)\n",
    "R1 = np.array([0+0j]*o_width)\n",
    "R2 = np.array([0+0j]*o_width)\n",
    "R3 = np.array([0+0j]*o_width)"
   ]
  },
  {
   "cell_type": "markdown",
   "metadata": {},
   "source": [
    "$\n",
    "ci(xy) = - \\int_x^{\\infty} \\frac{cos(zy)}{z}dz\n",
    "$"
   ]
  },
  {
   "cell_type": "markdown",
   "metadata": {},
   "source": [
    "$\n",
    "si(xy) = - \\int_x^{\\infty} \\frac{sin(zy)}{z}dz\n",
    "$"
   ]
  },
  {
   "cell_type": "markdown",
   "metadata": {},
   "source": [
    "$ \n",
    "R(\\omega_s,x,t)=R(\\omega_s)e^{-i\\frac{\\omega_s}{v_g}(x+v_gt)}$   \n",
    "&emsp;&emsp;&emsp;&emsp;&emsp;&emsp;\n",
    "$+\\frac{R(\\omega_s)}{2\\pi}$ $e^{-i\\frac {\\omega_s}{v_g}(x+v_gt)}[ici(\\omega_{s}\\frac{|x|}{v_g})+si(\\omega_s\\frac{|x|}{v_g})]$  \n",
    "$Eq(44)$  \n",
    "&emsp; &emsp; &emsp; &emsp; $x<0$ &emsp; $x+v_gt>0$  \n",
    "$\n",
    "|R(\\omega_s,x,t)|^2 = |R(\\omega_s)|^2|(1+z)|^2\n",
    "$  \n",
    "$z=\\frac {1}{2\\pi}[ici(\\omega_{s}\\frac{|x|}{v_g})+si(\\omega_s\\frac{|x|}{v_g})]$"
   ]
  },
  {
   "cell_type": "code",
   "execution_count": 43,
   "metadata": {},
   "outputs": [],
   "source": [
    "# directly compute with ci,si \n",
    "# 公式44 #\n",
    "for i in range(len(omega_s)):\n",
    "    Transmission_omega_s = (omega_s[i]-Omega)/(omega_s[i]-Omega+1j*Gamma/2)\n",
    "    Reflection_omega_s[i] = -1j*Gamma/2/(omega_s[i]-Omega+1j*Gamma/2)\n",
    "    EX = x+velocity_g*t\n",
    "    CI[i] = ci = sc.sici(omega_s[i]*abs(x)/velocity_g)[1] \n",
    "    SI[i] = si = sc.sici(omega_s[i]*abs(x)/velocity_g)[0] - math.pi/2\n",
    "    # Reflection_o_x_t\n",
    "    R1[i] = Reflection_omega_s[i]*math.e**(-1j*(omega_s[i]/velocity_g)*EX)\n",
    "    R2[i] = Reflection_omega_s[i]/2/math.pi*math.e**(-1j*omega_s[i]/velocity_g*EX)\n",
    "    R3[i] = 1j*ci+si\n",
    "    Reflection_o_x_t[i] = R1[i] + R2[i] * R3[i] \n",
    "    z[i] = R3[i]/(2*math.pi)\n",
    "    if x >= 0 :\n",
    "        print('x>=0')\n",
    "        break\n",
    "    if EX <= 0 :\n",
    "        print('x+velocity_g*t <= 0')\n",
    "        break"
   ]
  },
  {
   "cell_type": "code",
   "execution_count": 44,
   "metadata": {},
   "outputs": [
    {
     "data": {
      "image/png": "[encoded data removed]",
      "text/plain": [
       "<Figure size 432x288 with 1 Axes>"
      ]
     },
     "metadata": {
      "needs_background": "light"
     },
     "output_type": "display_data"
    }
   ],
   "source": [
    "plt.plot(omega_s,abs(Reflection_o_x_t)**2,'r--')\n",
    "plt.plot(omega_s,abs(Reflection_omega_s)**2,'k-')\n",
    "plt.plot(omega_s,z**2,'b--')\n",
    "plt.plot(omega_s,2*abs(Reflection_omega_s)**2*np.real(z),'g-')\n",
    "plt.show()"
   ]
  },
  {
   "cell_type": "code",
   "execution_count": 50,
   "metadata": {},
   "outputs": [
    {
     "data": {
      "image/png": "[encoded data removed]",
      "text/plain": [
       "<Figure size 432x288 with 1 Axes>"
      ]
     },
     "metadata": {
      "needs_background": "light"
     },
     "output_type": "display_data"
    }
   ],
   "source": [
    "plt.plot(omega_s,abs(CI),'b--')\n",
    "plt.plot(omega_s,abs(SI),'g--')\n",
    "plt.show()"
   ]
  },
  {
   "cell_type": "code",
   "execution_count": 51,
   "metadata": {},
   "outputs": [
    {
     "name": "stdout",
     "output_type": "stream",
     "text": [
      "-inf\n"
     ]
    }
   ],
   "source": [
    "print(sc.sici(0)[1])"
   ]
  },
  {
   "cell_type": "code",
   "execution_count": null,
   "metadata": {},
   "outputs": [],
   "source": [
    "# 定义公式\n",
    "def integrand(x,t):\n",
    "    return -np.cos(z * y) / z\n",
    "\n",
    "def ci(x, y):\n",
    "    result, _ = quad(integrand, x, np.inf, args=(y,))\n",
    "    return result"
   ]
  },
  {
   "cell_type": "code",
   "execution_count": 61,
   "metadata": {},
   "outputs": [
    {
     "name": "stdout",
     "output_type": "stream",
     "text": [
      "[-2.26419302+0.j -2.26409206+0.j -2.26399111+0.j -2.26389017+0.j\n",
      " -2.26378923+0.j -2.26368831+0.j -2.2635874 +0.j -2.2634865 +0.j\n",
      " -2.26338561+0.j -2.26328474+0.j -2.26318387+0.j -2.26308301+0.j\n",
      " -2.26298216+0.j -2.26288132+0.j -2.26278049+0.j -2.26267968+0.j\n",
      " -2.26257887+0.j -2.26247807+0.j -2.26237729+0.j -2.26227651+0.j\n",
      " -2.26217575+0.j -2.26207499+0.j -2.26197425+0.j -2.26187351+0.j\n",
      " -2.26177279+0.j -2.26167207+0.j -2.26157137+0.j -2.26147068+0.j\n",
      " -2.26136999+0.j -2.26126932+0.j -2.26116866+0.j -2.26106801+0.j\n",
      " -2.26096737+0.j -2.26086673+0.j -2.26076611+0.j -2.2606655 +0.j\n",
      " -2.2605649 +0.j -2.26046431+0.j -2.26036373+0.j -2.26026316+0.j\n",
      " -2.2601626 +0.j -2.26006205+0.j -2.25996151+0.j -2.25986099+0.j\n",
      " -2.25976047+0.j -2.25965996+0.j -2.25955946+0.j -2.25945897+0.j\n",
      " -2.2593585 +0.j -2.25925803+0.j -2.25915757+0.j -2.25905713+0.j\n",
      " -2.25895669+0.j -2.25885626+0.j -2.25875585+0.j -2.25865544+0.j\n",
      " -2.25855505+0.j -2.25845466+0.j -2.25835429+0.j -2.25825392+0.j\n",
      " -2.25815357+0.j -2.25805323+0.j -2.25795289+0.j -2.25785257+0.j\n",
      " -2.25775225+0.j -2.25765195+0.j -2.25755166+0.j -2.25745138+0.j\n",
      " -2.2573511 +0.j -2.25725084+0.j -2.25715059+0.j -2.25705035+0.j\n",
      " -2.25695012+0.j -2.25684989+0.j -2.25674968+0.j -2.25664948+0.j\n",
      " -2.25654929+0.j -2.25644911+0.j -2.25634894+0.j -2.25624878+0.j\n",
      " -2.25614863+0.j -2.25604849+0.j -2.25594836+0.j -2.25584824+0.j\n",
      " -2.25574813+0.j -2.25564803+0.j -2.25554795+0.j -2.25544787+0.j\n",
      " -2.2553478 +0.j -2.25524774+0.j -2.25514769+0.j -2.25504765+0.j\n",
      " -2.25494763+0.j -2.25484761+0.j -2.2547476 +0.j -2.2546476 +0.j\n",
      " -2.25454762+0.j -2.25444764+0.j -2.25434767+0.j -2.25424772+0.j]\n"
     ]
    },
    {
     "name": "stderr",
     "output_type": "stream",
     "text": [
      "/root/anaconda3/lib/python3.7/site-packages/ipykernel_launcher.py:7: ComplexWarning: Casting complex values to real discards the imaginary part\n",
      "  import sys\n"
     ]
    }
   ],
   "source": [
    "c = np.array([0+0j]*o_width)\n",
    "ci = np.array([0+0j]*o_width)\n",
    "\n",
    "for i in range(len(omega_s)):\n",
    "    c[i] =omega_s[i]*abs(x)/velocity_g\n",
    "    fun = lambda t: (np.cos(t)-1)/t\n",
    "    ci[i] = quad(fun,0,c[i])[0] + math.log(c[i])\n",
    "print(ci)"
   ]
  },
  {
   "cell_type": "code",
   "execution_count": 56,
   "metadata": {},
   "outputs": [
    {
     "data": {
      "text/plain": [
       "(21.333333333333336, 2.368475785867001e-13)"
      ]
     },
     "execution_count": 56,
     "metadata": {},
     "output_type": "execute_result"
    }
   ],
   "source": [
    "x2 = lambda x: x**2\n",
    "quad(x2, 0, 4)"
   ]
  },
  {
   "cell_type": "code",
   "execution_count": null,
   "metadata": {},
   "outputs": [],
   "source": []
  }
 ],
 "metadata": {
  "kernelspec": {
   "display_name": "Python 3",
   "language": "python",
   "name": "python3"
  },
  "language_info": {
   "codemirror_mode": {
    "name": "ipython",
    "version": 3
   },
   "file_extension": ".py",
   "mimetype": "text/x-python",
   "name": "python",
   "nbconvert_exporter": "python",
   "pygments_lexer": "ipython3",
   "version": "3.7.3"
  }
 },
 "nbformat": 4,
 "nbformat_minor": 2
}
