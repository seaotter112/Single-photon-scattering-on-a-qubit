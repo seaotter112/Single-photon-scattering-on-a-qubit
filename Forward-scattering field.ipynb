{
 "cells": [
  {
   "cell_type": "code",
   "execution_count": 63,
   "metadata": {},
   "outputs": [],
   "source": [
    "import numpy as np\n",
    "import matplotlib.pyplot as plt\n",
    "import math\n",
    "from sympy import symbols, integrate, oo, cos\n",
    "from scipy.integrate import quad\n",
    "import scipy.special as sc"
   ]
  },
  {
   "cell_type": "code",
   "execution_count": 64,
   "metadata": {},
   "outputs": [],
   "source": [
    "# 單位 wavelength & velocity_g & x-vt\n",
    "x_width = 100\n",
    "o_width = 100\n",
    "t1 = 10**(-9) # 1ns\n",
    "t2 = 5*(10**(-9)) # 1ns\n",
    "velocity_g = 3*10**8 # m/s\n",
    "wavelength = 0.06 # m\n",
    "wavelength_a = 0.1*wavelength\n",
    "wavelength_b = 1.1*wavelength\n",
    "x = np.linspace(wavelength_a, wavelength_b, x_width)\n",
    "Omega = 2*math.pi*5 # GHz\n",
    "Omega_a = 0.95*Omega\n",
    "Omega_b = 1.05*Omega\n",
    "omega_s = np.linspace(Omega_a, Omega_b, o_width)                    #photon frequency\n",
    "Gamma = 2*math.pi*0.01  # GHz\n",
    "tilde_Omega = Omega - 1j*Gamma/2"
   ]
  },
  {
   "cell_type": "code",
   "execution_count": 65,
   "metadata": {},
   "outputs": [],
   "source": [
    "# 初始化一个用于存储结果的二维数组\n",
    "Transmission_o_x_t1 = np.array([[0+0j]*len(x)]*len(omega_s))\n",
    "Transmission_o_x_t2 = np.array([[0+0j]*len(x)]*len(omega_s))\n",
    "T1 = np.array([[0+0j]*len(x)]*len(omega_s))\n",
    "T2 = np.array([[0.0+0.0j]*len(x)]*len(omega_s))\n",
    "T3 = np.array([[0+0j]*len(x)]*len(omega_s))"
   ]
  },
  {
   "cell_type": "code",
   "execution_count": 66,
   "metadata": {},
   "outputs": [],
   "source": [
    "#ci\n",
    "def integrand(z, x, y):\n",
    "    return np.cos(z * y) / z\n",
    "\n",
    "def ci(x, y):\n",
    "    result, _ = quad(integrand, x, np.inf, args=(x, y))\n",
    "    return -result"
   ]
  },
  {
   "cell_type": "code",
   "execution_count": 67,
   "metadata": {},
   "outputs": [],
   "source": [
    "#si\n",
    "def integrand(z, x, y):\n",
    "    return np.sin(z * y) / z\n",
    "\n",
    "def si(x, y):\n",
    "    result, _ = quad(integrand, x, np.inf, args=(x, y))\n",
    "    return -result"
   ]
  },
  {
   "cell_type": "markdown",
   "metadata": {},
   "source": [
    "$ \n",
    "T(\\omega_s,x,t)=T(\\omega_s)e^{i\\frac{\\omega_s}{v_g}(x-v_gt)}$  \n",
    "&emsp;&emsp;&emsp;&emsp;&emsp;&emsp;\n",
    "$+\\frac {iR(\\omega_s)}{2\\pi } e^ {i\\frac {\\Omega}{v_g}(x-v_gt)} e^ {\\frac {\\Gamma/2}{v_g}(x-v_gt)} [E_1(i\\frac {x}{v_g}\\tilde \\Omega))+2\\pi i - E_1(-i \\frac {|x-v_gt|}{v_g}\\tilde\\Omega)]$  \n",
    "&emsp;&emsp;&emsp;&emsp;&emsp;&emsp;\n",
    "$+\\frac{R(\\omega_s)}{2\\pi}$ $e^{i\\frac {\\omega_s}{v_g}(x-v_gt)}[ici(\\omega_{s}\\frac{x}{v_g})+si(\\omega_s\\frac{x}{v_g})-ici(\\omega_s\\frac{|x-v_ gt|}{v_g})+si(\\omega_s\\frac{|x-v_gt|}{v_g})]$"
   ]
  },
  {
   "cell_type": "code",
   "execution_count": 68,
   "metadata": {},
   "outputs": [
    {
     "name": "stderr",
     "output_type": "stream",
     "text": [
      "/root/anaconda3/lib/python3.7/site-packages/ipykernel_launcher.py:6: IntegrationWarning: The integral is probably divergent, or slowly convergent.\n",
      "  \n"
     ]
    }
   ],
   "source": [
    "# directly compute with ci,si \n",
    "# t1\n",
    "for i in range(len(x)):\n",
    "    for k in range(len(omega_s)):\n",
    "        Transmission_omega_s = (omega_s[k]-Omega)/(omega_s[k]-Omega+1j*Gamma/2)\n",
    "        Reflection_omega_s = -1j*Gamma/2/(omega_s[k]-Omega+1j*Gamma/2)\n",
    "        EX = x[i]-velocity_g*t1\n",
    "        E1a = 1j*x[i]/velocity_g*tilde_Omega\n",
    "        E1b = -1j*abs(EX)/velocity_g*tilde_Omega\n",
    "        # Transmission_o_x_t1 \n",
    "        T1[i][k] = Transmission_omega_s*math.e**(1j*omega_s[k]/velocity_g*EX)\n",
    "        T2[i][k] = 1j*Reflection_omega_s/(2*math.pi)*math.e**(1j*Omega/velocity_g*EX)*math.e**(Gamma/2/velocity_g*EX)*((sc.exp1(complex(np.real(E1a), np.imag(E1a)))) + 2*math.pi*1j - sc.exp1(complex(np.real(E1b), np.imag(E1b)))) #exponential integral is here\n",
    "        T3[i][k] = Reflection_omega_s/2/math.pi*math.e**(1j*omega_s[k]/velocity_g*EX)*(1j*ci(omega_s[k],x[i]/velocity_g)+si(omega_s[k],x[i]/velocity_g)-1j*ci(omega_s[k],abs(EX)/velocity_g)+si(omega_s[k],abs(EX)/velocity_g))          \n",
    "        Transmission_o_x_t1[i][k] = T1[i][k] + T2[i][k] + T3[i][k] \n",
    "       \n",
    "        if x[i] <= 0 :\n",
    "            print('x<=0')\n",
    "            print('x=',x[i])\n",
    "            print('i=',i,'k=',k)\n",
    "            break\n",
    "            break\n",
    "        if EX >= 0 :\n",
    "            print('x-velocity_g*t >= 0')\n",
    "            break\n",
    "            break\n",
    "        "
   ]
  },
  {
   "cell_type": "code",
   "execution_count": 69,
   "metadata": {},
   "outputs": [
    {
     "data": {
      "image/png": "[encoded data removed]",
      "text/plain": [
       "<Figure size 432x288 with 2 Axes>"
      ]
     },
     "metadata": {
      "needs_background": "light"
     },
     "output_type": "display_data"
    }
   ],
   "source": [
    "# 创建二维色图t\n",
    "plt.imshow(abs(Transmission_o_x_t1)**2,cmap='jet', origin='lower', extent=[Omega_a, Omega_b, wavelength_a, wavelength_b], aspect='auto')\n",
    "plt.colorbar()\n",
    "plt.title('T(x)_t1')\n",
    "plt.xlabel('omega_s')\n",
    "plt.ylabel('x')\n",
    "plt.show()"
   ]
  },
  {
   "cell_type": "markdown",
   "metadata": {},
   "source": [
    "$ \n",
    "T(\\omega_s,x,t)=T(\\omega_s)e^{i\\frac{\\omega_s}{v_g}(x-v_gt)}$  \n",
    "&emsp;&emsp;&emsp;&emsp;&emsp;&emsp;\n",
    "$+\\frac {iR(\\omega_s)}{2\\pi } e^ {i\\frac {\\Omega}{v_g}(x-v_gt)} e^ {\\frac {\\Gamma/2}{v_g}(x-v_gt)} [E_1(i\\frac {x}{v_g}\\tilde \\Omega))+2\\pi i - E_1(-i \\frac {|x-v_gt|}{v_g}\\tilde\\Omega)]$  \n",
    "&emsp;&emsp;&emsp;&emsp;&emsp;&emsp;\n",
    "$+\\frac{R(\\omega_s)}{2\\pi}$ $e^{i\\frac {\\omega_s}{v_g}(x-v_gt)}[ici(\\omega_{s}\\frac{x}{v_g})+si(\\omega_s\\frac{x}{v_g})-ici(\\omega_s\\frac{|x-v_ gt|}{v_g})+si(\\omega_s\\frac{|x-v_gt|}{v_g})]$"
   ]
  },
  {
   "cell_type": "code",
   "execution_count": 70,
   "metadata": {},
   "outputs": [
    {
     "name": "stderr",
     "output_type": "stream",
     "text": [
      "/root/anaconda3/lib/python3.7/site-packages/ipykernel_launcher.py:6: IntegrationWarning: The integral is probably divergent, or slowly convergent.\n",
      "  \n"
     ]
    }
   ],
   "source": [
    "# directly compute with ci,si \n",
    "# t2\n",
    "for i in range(len(x)):\n",
    "    for k in range(len(omega_s)):\n",
    "        Transmission_omega_s = (omega_s[k]-Omega)/(omega_s[k]-Omega+1j*Gamma/2)\n",
    "        Reflection_omega_s = -1j*Gamma/2/(omega_s[k]-Omega+1j*Gamma/2)\n",
    "        EX = x[i]-velocity_g*t2\n",
    "        E1a = 1j*x[i]/velocity_g*tilde_Omega\n",
    "        E1b = -1j*abs(EX)/velocity_g*tilde_Omega\n",
    "        # Transmission_o_x_t2\n",
    "        T1[i][k] = Transmission_omega_s*math.e**(1j*omega_s[k]/velocity_g*EX)\n",
    "        T2[i][k] = 1j*Reflection_omega_s/(2*math.pi)*math.e**(1j*Omega/velocity_g*EX)*math.e**(Gamma/2/velocity_g*EX)*((sc.exp1(complex(np.real(E1a), np.imag(E1a)))) + 2*math.pi*1j - sc.exp1(complex(np.real(E1b), np.imag(E1b))))\n",
    "        T3[i][k] = Reflection_omega_s/2/math.pi*math.e**(1j*omega_s[k]/velocity_g*EX)*(1j*ci(omega_s[k],x[i]/velocity_g)+si(omega_s[k],x[i]/velocity_g)-1j*ci(omega_s[k],abs(EX)/velocity_g)+si(omega_s[k],abs(EX)/velocity_g))          \n",
    "        Transmission_o_x_t2[i][k] = T1[i][k] + T2[i][k] + T3[i][k] \n",
    "        if x[i] <= 0 :\n",
    "            print('x<=0')\n",
    "            print('x=',x[i])\n",
    "            print('i=',i,'k=',k)\n",
    "            break\n",
    "            break\n",
    "        if EX >= 0 :\n",
    "            print('x-velocity_g*t >= 0')\n",
    "            break\n",
    "            break\n",
    "        "
   ]
  },
  {
   "cell_type": "code",
   "execution_count": 71,
   "metadata": {},
   "outputs": [
    {
     "data": {
      "image/png": "[encoded data removed]",
      "text/plain": [
       "<Figure size 432x288 with 2 Axes>"
      ]
     },
     "metadata": {
      "needs_background": "light"
     },
     "output_type": "display_data"
    }
   ],
   "source": [
    "# 创建二维色图t\n",
    "plt.imshow(abs(Transmission_o_x_t2)**2,cmap='jet', origin='lower', extent=[Omega_a, Omega_b, wavelength_a, wavelength_b], aspect='auto')\n",
    "plt.colorbar()\n",
    "plt.title('T(x)_t2')\n",
    "plt.xlabel('omega_s')\n",
    "plt.ylabel('x')\n",
    "plt.show()"
   ]
  }
 ],
 "metadata": {
  "kernelspec": {
   "display_name": "Python 3",
   "language": "python",
   "name": "python3"
  },
  "language_info": {
   "codemirror_mode": {
    "name": "ipython",
    "version": 3
   },
   "file_extension": ".py",
   "mimetype": "text/x-python",
   "name": "python",
   "nbconvert_exporter": "python",
   "pygments_lexer": "ipython3",
   "version": "3.7.3"
  }
 },
 "nbformat": 4,
 "nbformat_minor": 2
}
