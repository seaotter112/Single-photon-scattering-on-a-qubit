{
 "cells": [
  {
   "cell_type": "code",
   "execution_count": 182,
   "metadata": {},
   "outputs": [],
   "source": [
    "import numpy as np\n",
    "import matplotlib.pyplot as plt\n",
    "import math\n",
    "from sympy import symbols, integrate, oo, cos\n",
    "from scipy.integrate import quad\n",
    "import scipy.special as sc"
   ]
  },
  {
   "cell_type": "code",
   "execution_count": 183,
   "metadata": {},
   "outputs": [],
   "source": [
    "# 單位 wavelength & velocity_g & x-vt\n",
    "x_width = 100\n",
    "o_width = 100\n",
    "t1 = 10**(-9) # 1ns\n",
    "t2 = 5*(10**(-9)) # 1ns\n",
    "velocity_g = 3*(10**8) # m/s\n",
    "wavelength = 0.06 # m\n",
    "wavelength_a = -0.1*wavelength\n",
    "wavelength_b = -1.1*wavelength\n",
    "x = np.linspace(wavelength_a, wavelength_b, x_width)\n",
    "Omega = 2*math.pi*5 # GHz\n",
    "Omega_a = 0.95*Omega\n",
    "Omega_b = 1.05*Omega\n",
    "omega_s = np.linspace(Omega_a, Omega_b, o_width)                    #photon frequency\n",
    "Gamma = 2*math.pi*0.01  # GHz\n",
    "tilde_Omega = Omega - 1j*Gamma/2"
   ]
  },
  {
   "cell_type": "code",
   "execution_count": 184,
   "metadata": {},
   "outputs": [],
   "source": [
    "# 初始化一个用于存储结果的二维数组\n",
    "Reflection_o_x_t1 = np.array([[0+0j]*len(x)]*len(omega_s))\n",
    "Reflection_o_x_t2 = np.array([[0+0j]*len(x)]*len(omega_s))\n",
    "R1 = np.array([[0+0j]*len(x)]*len(omega_s))\n",
    "R2 = np.array([[0+0j]*len(x)]*len(omega_s))\n",
    "R3 = np.array([[0+0j]*len(x)]*len(omega_s))"
   ]
  },
  {
   "cell_type": "code",
   "execution_count": 185,
   "metadata": {},
   "outputs": [],
   "source": [
    "# ci\n",
    "def integrand(z, x, y):\n",
    "    return np.cos(z * y) / z\n",
    "\n",
    "def ci(x, y):\n",
    "    result, _ = quad(integrand, x, np.inf, args=(x, y))\n",
    "    return -result"
   ]
  },
  {
   "cell_type": "code",
   "execution_count": 186,
   "metadata": {},
   "outputs": [],
   "source": [
    "# si\n",
    "def integrand(z, x, y):\n",
    "    return np.sin(z * y) / z\n",
    "\n",
    "def si(x, y):\n",
    "    result, _ = quad(integrand, x, np.inf, args=(x, y))\n",
    "    return -result"
   ]
  },
  {
   "cell_type": "markdown",
   "metadata": {},
   "source": [
    "$ \n",
    "R(\\omega_s,x,t)=R(\\omega_s)e^{-i\\frac{\\omega_s}{v_g}(x+v_gt)}$  \n",
    "&emsp;&emsp;&emsp;&emsp;&emsp;&emsp;\n",
    "$+\\frac {iR(\\omega_s)}{2\\pi } e^{-i\\frac{\\Omega}{v_g}(x+v_gt)}e^{-\\frac{\\Gamma/2}{v_g}(x+v_gt)} [E_1(i\\frac {|x|}{v_g}\\tilde \\Omega)+2\\pi i-E_1(-i\\frac{x+v_gt}{v_g}\\tilde\\Omega)]$  \n",
    "&emsp;&emsp;&emsp;&emsp;&emsp;&emsp;\n",
    "$+\\frac{R(\\omega_s)}{2\\pi}$ $e^{-i\\frac {\\omega_s}{v_g}(x+v_gt)}[ici(\\omega_{s}\\frac{|x|}{v_g})+si(\\omega_s\\frac{|x|}{v_g})-ici(\\omega_s\\frac{x+v_gt}{v_g})+si(\\omega_s\\frac{x+v_gt}{v_g})]$"
   ]
  },
  {
   "cell_type": "code",
   "execution_count": 187,
   "metadata": {},
   "outputs": [
    {
     "name": "stderr",
     "output_type": "stream",
     "text": [
      "/root/anaconda3/lib/python3.7/site-packages/ipykernel_launcher.py:6: IntegrationWarning: The integral is probably divergent, or slowly convergent.\n",
      "  \n"
     ]
    }
   ],
   "source": [
    " ## directly compute with ci,si\n",
    "for i in range(len(x)):\n",
    "    for k in range(len(omega_s)):\n",
    "        Transmission_omega_s = (omega_s[k]-Omega)/(omega_s[k]-Omega+1j*Gamma/2)\n",
    "        Reflection_omega_s = -1j*(Gamma/2)/(omega_s[k]-Omega+1j*Gamma/2)\n",
    "        EX = x[i]+velocity_g*t1\n",
    "        \n",
    "        E1a = 1j*abs(x[i])/velocity_g*tilde_Omega\n",
    "        E1b = -1j*EX/velocity_g*tilde_Omega \n",
    "        \n",
    "        R1[i][k] = Reflection_omega_s*math.e**(-1j*(omega_s[k]/velocity_g)*EX)\n",
    "        R2[i][k] = 1j*Reflection_omega_s/(2*math.pi)*math.e**(-1j*Omega/velocity_g*EX)*math.e**(-Gamma/2/velocity_g*EX)*((sc.exp1(complex(np.real(E1a), np.imag(E1a)))) + 2*math.pi*1j - sc.exp1(complex(np.real(E1b), np.imag(E1b))))\n",
    "        R3[i][k] = Reflection_omega_s/2/math.pi*math.e**(-1j*omega_s[k]/velocity_g*EX)*(1j*ci(omega_s[k],-x[i]/velocity_g)+si(omega_s[k],-x[i]/velocity_g)-1j*ci(omega_s[k],EX/velocity_g)+si(omega_s[k],EX/velocity_g))\n",
    "        Reflection_o_x_t1[i][k] = R1[i][k] + R2[i][k] + R3[i][k]\n",
    "\n",
    "        if x[i] >= 0 :\n",
    "            print('x>=0')\n",
    "            print('x=',x)\n",
    "            print('i=',i,'k=',k)\n",
    "            break\n",
    "            break\n",
    "        if EX <= 0 :\n",
    "            print('x+velocity_g*t1 <= 0')\n",
    "            print(velocity_g*t1)\n",
    "            print('i=',i,'k=',k)\n",
    "            break\n",
    "            break\n",
    "        "
   ]
  },
  {
   "cell_type": "code",
   "execution_count": 188,
   "metadata": {},
   "outputs": [
    {
     "data": {
      "image/png": "[encoded data removed]",
      "text/plain": [
       "<Figure size 432x288 with 2 Axes>"
      ]
     },
     "metadata": {
      "needs_background": "light"
     },
     "output_type": "display_data"
    }
   ],
   "source": [
    "plt.imshow(abs(Reflection_o_x_t1)**2,cmap='jet', origin='upper', extent=[Omega_a, Omega_b, wavelength_b, wavelength_a], aspect='auto')\n",
    "plt.colorbar()\n",
    "plt.title('|R|_t1**2')\n",
    "plt.xlabel('omega_s')\n",
    "plt.ylabel('x')\n",
    "plt.show()"
   ]
  },
  {
   "cell_type": "markdown",
   "metadata": {},
   "source": [
    "$ \n",
    "R(\\omega_s,x,t)=R(\\omega_s)e^{-i\\frac{\\omega_s}{v_g}(x+v_gt)}$  \n",
    "&emsp;&emsp;&emsp;&emsp;&emsp;&emsp;\n",
    "$+\\frac {iR(\\omega_s)}{2\\pi } e^{-i\\frac{\\Omega}{v_g}(x+v_gt)}e^{-\\frac{\\Gamma/2}{v_g}(x+v_gt)} [E_1(i\\frac {|x|}{v_g}\\tilde \\Omega)+2\\pi i-E_1(-i\\frac{x+v_gt}{v_g}\\tilde\\Omega)]$  \n",
    "&emsp;&emsp;&emsp;&emsp;&emsp;&emsp;\n",
    "$+\\frac{R(\\omega_s)}{2\\pi}$ $e^{-i\\frac {\\omega_s}{v_g}(x+v_gt)}[ici(\\omega_{s}\\frac{|x|}{v_g})+si(\\omega_s\\frac{|x|}{v_g})-ici(\\omega_s\\frac{x+v_gt}{v_g})+si(\\omega_s\\frac{x+v_gt}{v_g})]$"
   ]
  },
  {
   "cell_type": "code",
   "execution_count": 189,
   "metadata": {},
   "outputs": [
    {
     "name": "stderr",
     "output_type": "stream",
     "text": [
      "/root/anaconda3/lib/python3.7/site-packages/ipykernel_launcher.py:6: IntegrationWarning: The integral is probably divergent, or slowly convergent.\n",
      "  \n"
     ]
    }
   ],
   "source": [
    "# directly compute with ci,si\n",
    "# t2\n",
    "for i in range(len(x)):\n",
    "    for k in range(len(omega_s)):\n",
    "        Transmission_omega_s = (omega_s[k]-Omega)/(omega_s[k]-Omega+1j*Gamma/2)\n",
    "        Reflection_omega_s = -1j*(Gamma/2)/(omega_s[k]-Omega+1j*Gamma/2)\n",
    "        EX = x[i]+velocity_g*t2\n",
    "        \n",
    "        E1a = 1j*abs(x[i])/velocity_g*tilde_Omega\n",
    "        E1b = -1j*EX/velocity_g*tilde_Omega \n",
    "        \n",
    "        R1[i][k] = Reflection_omega_s*math.e**(-1j*(omega_s[k]/velocity_g)*EX)\n",
    "        R2[i][k] = 1j*Reflection_omega_s/(2*math.pi)*math.e**(-1j*Omega/velocity_g*EX)*math.e**(-Gamma/2/velocity_g*EX)*((sc.exp1(complex(np.real(E1a), np.imag(E1a)))) + 2*math.pi*1j - sc.exp1(complex(np.real(E1b), np.imag(E1b))))\n",
    "        R3[i][k] = Reflection_omega_s/2/math.pi*math.e**(-1j*omega_s[k]/velocity_g*EX)*(1j*ci(omega_s[k],-x[i]/velocity_g)+si(omega_s[k],-x[i]/velocity_g)-1j*ci(omega_s[k],EX/velocity_g)+si(omega_s[k],EX/velocity_g))\n",
    "        Reflection_o_x_t2[i][k] = R1[i][k] + R2[i][k] + R3[i][k]\n",
    "\n",
    "        if x[i] >= 0 :\n",
    "            print('x>=0')\n",
    "            print('x=',x)\n",
    "            print('i=',i,'k=',k)\n",
    "            break\n",
    "            break\n",
    "        if EX <= 0 :\n",
    "            print('x+velocity_g*t2 <= 0')\n",
    "            print(velocity_g*t2)\n",
    "            print('i=',i,'k=',k)\n",
    "            break\n",
    "            break\n",
    "        "
   ]
  },
  {
   "cell_type": "code",
   "execution_count": 190,
   "metadata": {},
   "outputs": [
    {
     "data": {
      "image/png": "[encoded data removed]",
      "text/plain": [
       "<Figure size 432x288 with 2 Axes>"
      ]
     },
     "metadata": {
      "needs_background": "light"
     },
     "output_type": "display_data"
    }
   ],
   "source": [
    "plt.imshow(abs(Reflection_o_x_t2)**2,cmap='jet', origin='upper', extent=[Omega_a, Omega_b, wavelength_b, wavelength_a], aspect='auto')\n",
    "plt.colorbar()\n",
    "plt.title('|R|_t2**2')\n",
    "plt.xlabel('omega_s')\n",
    "plt.ylabel('x')\n",
    "plt.show()"
   ]
  }
 ],
 "metadata": {
  "kernelspec": {
   "display_name": "Python 3",
   "language": "python",
   "name": "python3"
  },
  "language_info": {
   "codemirror_mode": {
    "name": "ipython",
    "version": 3
   },
   "file_extension": ".py",
   "mimetype": "text/x-python",
   "name": "python",
   "nbconvert_exporter": "python",
   "pygments_lexer": "ipython3",
   "version": "3.7.3"
  }
 },
 "nbformat": 4,
 "nbformat_minor": 2
}
